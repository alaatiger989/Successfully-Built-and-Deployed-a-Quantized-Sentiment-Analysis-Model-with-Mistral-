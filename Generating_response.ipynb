{
 "cells": [
  {
   "cell_type": "markdown",
   "id": "a31ea964-d222-4d22-8f36-f0d71ccd4dc6",
   "metadata": {},
   "source": [
    "# Loading the Model and Tokenizer"
   ]
  },
  {
   "cell_type": "code",
   "execution_count": 1,
   "id": "03ef4620-52b0-4a79-8446-1ad7489c70ea",
   "metadata": {},
   "outputs": [
    {
     "name": "stderr",
     "output_type": "stream",
     "text": [
      "C:\\Users\\thegh\\anaconda3\\envs\\alaa_ai_env\\Lib\\site-packages\\tqdm\\auto.py:21: TqdmWarning: IProgress not found. Please update jupyter and ipywidgets. See https://ipywidgets.readthedocs.io/en/stable/user_install.html\n",
      "  from .autonotebook import tqdm as notebook_tqdm\n"
     ]
    }
   ],
   "source": [
    "from transformers import AutoModelForSequenceClassification, AutoTokenizer\n",
    "import torch"
   ]
  },
  {
   "cell_type": "markdown",
   "id": "75d37db5-2f97-4e96-bef1-29bfda85d9bd",
   "metadata": {},
   "source": [
    "# Load the saved model and tokenizer"
   ]
  },
  {
   "cell_type": "code",
   "execution_count": null,
   "id": "40e61b43-8f98-4644-838b-7684f3ba8d5e",
   "metadata": {},
   "outputs": [],
   "source": [
    "model = AutoModelForSequenceClassification.from_pretrained(\"./saved_model\")\n",
    "tokenizer = AutoTokenizer.from_pretrained(\"./saved_model\")"
   ]
  },
  {
   "cell_type": "markdown",
   "id": "3d74b62c-3dbe-4fb1-9695-7457eeb629f5",
   "metadata": {},
   "source": [
    "# Ensure the model is on the correct device"
   ]
  },
  {
   "cell_type": "code",
   "execution_count": null,
   "id": "55580454-f836-4b03-a021-7b6adfd7b772",
   "metadata": {},
   "outputs": [],
   "source": [
    "device = torch.device(\"cuda\" if torch.cuda.is_available() else \"cpu\")\n",
    "model.to(device)"
   ]
  },
  {
   "cell_type": "code",
   "execution_count": 2,
   "id": "150f800d-3e5b-4208-8e3a-b81631051421",
   "metadata": {},
   "outputs": [],
   "source": [
    "# Running Inference on New Data"
   ]
  },
  {
   "cell_type": "code",
   "execution_count": 3,
   "id": "b72b55e2-d4de-4403-adcb-fe893aff9bf1",
   "metadata": {},
   "outputs": [],
   "source": [
    "def predict_sentiment(text):\n",
    "    # Tokenize the input text\n",
    "    inputs = tokenizer(text, return_tensors=\"pt\", padding=True, truncation=True, max_length=128)\n",
    "    \n",
    "    # Move input tensors to the correct device\n",
    "    inputs = {k: v.to(device) for k, v in inputs.items()}\n",
    "    \n",
    "    # Get model predictions\n",
    "    with torch.no_grad():\n",
    "        outputs = model(**inputs)\n",
    "        logits = outputs.logits\n",
    "    \n",
    "    # Convert logits to probabilities\n",
    "    probs = torch.nn.functional.softmax(logits, dim=-1)\n",
    "    # Get the predicted sentiment label (0, 1, or 2)\n",
    "    pred = torch.argmax(probs, dim=-1).item()\n",
    "    \n",
    "    # Map the label to a human-readable sentiment\n",
    "    sentiment_map = {0: \"Negative\", 1: \"Neutral\", 2: \"Positive\"}\n",
    "    return sentiment_map[pred], probs"
   ]
  },
  {
   "cell_type": "code",
   "execution_count": null,
   "id": "44e4d3cb-24e1-4531-9eaa-7ca9ada68311",
   "metadata": {},
   "outputs": [],
   "source": [
    "# Example usage\n",
    "text = \"I'm feeling great today!\"\n",
    "sentiment, probabilities = predict_sentiment(text)\n",
    "print(f\"Sentiment: {sentiment}, Probabilities: {probabilities}\")"
   ]
  }
 ],
 "metadata": {
  "kernelspec": {
   "display_name": "Python 3 (ipykernel)",
   "language": "python",
   "name": "python3"
  },
  "language_info": {
   "codemirror_mode": {
    "name": "ipython",
    "version": 3
   },
   "file_extension": ".py",
   "mimetype": "text/x-python",
   "name": "python",
   "nbconvert_exporter": "python",
   "pygments_lexer": "ipython3",
   "version": "3.11.9"
  }
 },
 "nbformat": 4,
 "nbformat_minor": 5
}
